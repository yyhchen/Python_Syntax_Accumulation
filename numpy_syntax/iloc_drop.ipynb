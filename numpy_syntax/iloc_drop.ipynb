{
 "cells": [
  {
   "cell_type": "markdown",
   "metadata": {},
   "source": [
    "### 1. `iloc`方法\n",
    "`iloc`方法用于基于整数位置的索引，它返回的是原DataFrame的一个视图（不复制数据），通过指定行和列的整数索引来选择DataFrame中的元素。这种方式通常用于选择单个或多个元素，而不修改原DataFrame。\n",
    "\n"
   ]
  },
  {
   "cell_type": "code",
   "execution_count": 12,
   "metadata": {},
   "outputs": [
    {
     "name": "stdout",
     "output_type": "stream",
     "text": [
      "   A  B  C\n",
      "0  1  4  7\n",
      "1  2  5  8\n",
      "2  3  6  9\n"
     ]
    }
   ],
   "source": [
    "import pandas as pd\n",
    "df = pd.DataFrame({'A': [1, 2, 3], 'B': [4, 5, 6], 'C': [7, 8, 9]})\n",
    "\n",
    "print(df)"
   ]
  },
  {
   "cell_type": "code",
   "execution_count": 18,
   "metadata": {},
   "outputs": [
    {
     "name": "stdout",
     "output_type": "stream",
     "text": [
      "4\n",
      "----------------------------------------\n",
      "   B  C\n",
      "0  4  7\n",
      "1  5  8\n",
      "----------------------------------------\n",
      "A    1\n",
      "B    4\n",
      "C    7\n",
      "Name: 0, dtype: int64\n"
     ]
    }
   ],
   "source": [
    "element = df.iloc[0, 1]  # 选择第一行第二列的元素\n",
    "print(element)  # 输出：4\n",
    "\n",
    "print('--'*20)\n",
    "\n",
    "subset = df.iloc[0:2, 1:3]  # 选择第一到第二行，第二到第三列的元素\n",
    "print(subset)  # 输出：[[4 5] [7 8]]\n",
    "\n",
    "print('--'*20)\n",
    "\n",
    "row = df.iloc[0]\n",
    "print(row)"
   ]
  },
  {
   "cell_type": "markdown",
   "metadata": {},
   "source": [
    "### 2. `drop`方法\n",
    "`drop`方法用于删除DataFrame中的行或列。它可以删除指定的行或列，并返回一个新的DataFrame，原DataFrame不会被修改。\n",
    "\n",
    "在使用`drop`时，你可以指定轴（axis），`axis=0`表示删除行，`axis=1`表示删除列。"
   ]
  },
  {
   "cell_type": "code",
   "execution_count": 23,
   "metadata": {},
   "outputs": [
    {
     "name": "stdout",
     "output_type": "stream",
     "text": [
      "   A  B  C\n",
      "0  1  4  7\n",
      "1  2  5  8\n",
      "2  3  6  9\n",
      "----------------------------------------\n",
      "delete row index:  0\n",
      "   A  B  C\n",
      "1  2  5  8\n",
      "2  3  6  9\n",
      "----------------------------------------\n",
      "   A  C\n",
      "0  1  7\n",
      "1  2  8\n",
      "2  3  9\n"
     ]
    }
   ],
   "source": [
    "import pandas as pd\n",
    "df = pd.DataFrame({'A': [1, 2, 3], 'B': [4, 5, 6], 'C': [7, 8, 9]})\n",
    "print(df)\n",
    "print('--'*20)\n",
    "print('delete row index: ', df.index[0])  # 行索引\n",
    "df_dropped = df.drop(df.index[0])  # 删除第一行并更新表，df.index[0]是第一行的索引\n",
    "print(df_dropped)  # 输出：[[2 3] [4 6] [7 9]]\n",
    "\n",
    "print('--'*20)\n",
    "\n",
    "df_dropped = df.drop('B', axis=1)  # 删除列'B'\n",
    "print(df_dropped)  # 输出：[[1 7] [2 8] [3 9]]"
   ]
  }
 ],
 "metadata": {
  "kernelspec": {
   "display_name": "base",
   "language": "python",
   "name": "python3"
  },
  "language_info": {
   "codemirror_mode": {
    "name": "ipython",
    "version": 3
   },
   "file_extension": ".py",
   "mimetype": "text/x-python",
   "name": "python",
   "nbconvert_exporter": "python",
   "pygments_lexer": "ipython3",
   "version": "3.11.5"
  }
 },
 "nbformat": 4,
 "nbformat_minor": 2
}
