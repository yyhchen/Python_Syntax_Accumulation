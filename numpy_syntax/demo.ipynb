{
 "cells": [
  {
   "cell_type": "code",
   "execution_count": 2,
   "metadata": {},
   "outputs": [],
   "source": [
    "import numpy as np"
   ]
  },
  {
   "cell_type": "code",
   "execution_count": 3,
   "metadata": {},
   "outputs": [
    {
     "name": "stdout",
     "output_type": "stream",
     "text": [
      "[1 1 0 1 1 1 1 1 1 0]\n"
     ]
    }
   ],
   "source": [
    "\"\"\"\n",
    "    在[0, 1, 1] 三个数中，随机选10个，因为1有两个，所以结果中 1 会比较多\n",
    "\"\"\"\n",
    "\n",
    "a = np.random.choice([0, 1, 1], 10)\n",
    "\n",
    "print(a)"
   ]
  },
  {
   "cell_type": "code",
   "execution_count": 5,
   "metadata": {},
   "outputs": [
    {
     "name": "stdout",
     "output_type": "stream",
     "text": [
      "b1:\n",
      " [0. 0. 0.]\n",
      "b2:\n",
      "  [[0.]\n",
      " [0.]\n",
      " [0.]]\n"
     ]
    }
   ],
   "source": [
    "'''\n",
    "    写一个参数 与 写两个参数的区别；一个是一维，一个是二维\n",
    "'''\n",
    "b1 = np.zeros([3,])\n",
    "print('b1:\\n', b1)\n",
    "\n",
    "b2 = np.zeros([3,1])\n",
    "print('b2:\\n ', b2)\n"
   ]
  },
  {
   "cell_type": "code",
   "execution_count": 30,
   "metadata": {},
   "outputs": [
    {
     "name": "stdout",
     "output_type": "stream",
     "text": [
      "4\n",
      "[4, 1, 0, 0, 4, 2, 1, 1, 1, 1]\n"
     ]
    }
   ],
   "source": [
    "\"\"\"\n",
    "    c:  在 (0,5) 之前随机选取一个值\n",
    "    \n",
    "    c_list: 随机10次, 验证了确实是在 (0,5) 之间\n",
    "\"\"\"\n",
    "\n",
    "c = np.random.randint(0,5)\n",
    "print(c)\n",
    "\n",
    "\n",
    "c_list = []\n",
    "for i in range(10):\n",
    "    c = np.random.randint(0,5)\n",
    "    c_list.append(c)\n",
    "\n",
    "print(c_list)"
   ]
  },
  {
   "cell_type": "code",
   "execution_count": 31,
   "metadata": {},
   "outputs": [
    {
     "name": "stdout",
     "output_type": "stream",
     "text": [
      "[1 1 1 1 1 1 0 0 0 1 1 1 1 1 1]\n"
     ]
    }
   ],
   "source": [
    "\"\"\"\n",
    "    测试 np.repeat; 原来这里是一维的重复\n",
    "\"\"\"\n",
    "\n",
    "\n",
    "d = np.repeat(np.random.choice([0,1,1], 5), 3)\n",
    "\n",
    "print(d)"
   ]
  },
  {
   "cell_type": "code",
   "execution_count": 44,
   "metadata": {},
   "outputs": [
    {
     "name": "stdout",
     "output_type": "stream",
     "text": [
      "[ 4 10 18]\n",
      "--------------------\n",
      "[[ 5 12]\n",
      " [21 32]]\n"
     ]
    }
   ],
   "source": [
    "\n",
    "\"\"\"\n",
    "    逐 元素 相乘 multiply\n",
    "\"\"\"\n",
    "import numpy as np\n",
    "\n",
    "# 创建两个一维数组\n",
    "a = np.array([1, 2, 3])\n",
    "b = np.array([4, 5, 6])\n",
    "\n",
    "# 使用multiply函数进行逐元素乘法\n",
    "c = np.multiply(a, b)\n",
    "\n",
    "print(c)  # 输出： [ 4 10 18]\n",
    "\n",
    "print('-'*20)\n",
    "\n",
    "# 创建一个二维数组（矩阵）\n",
    "d = np.array([[1, 2], [3, 4]])\n",
    "e = np.array([[5, 6], [7, 8]])\n",
    "\n",
    "# 使用multiply函数进行逐元素乘法\n",
    "f = np.multiply(d, e)\n",
    "\n",
    "print(f)\n",
    "\n"
   ]
  },
  {
   "cell_type": "code",
   "execution_count": 61,
   "metadata": {},
   "outputs": [
    {
     "name": "stdout",
     "output_type": "stream",
     "text": [
      "[[0]\n",
      " [1]\n",
      " [2]\n",
      " [3]\n",
      " [4]]\n",
      "(5, 1)\n",
      "--------------------\n",
      "[0 1 2 3 4]\n",
      "(5,)\n",
      "--------------------\n",
      "[[ 0  0  0  0  0]\n",
      " [ 0  1  2  3  4]\n",
      " [ 0  2  4  6  8]\n",
      " [ 0  3  6  9 12]\n",
      " [ 0  4  8 12 16]]\n",
      "(5, 5)\n",
      "--------------------\n"
     ]
    },
    {
     "ename": "ValueError",
     "evalue": "shapes (5,1) and (5,) not aligned: 1 (dim 1) != 5 (dim 0)",
     "output_type": "error",
     "traceback": [
      "\u001b[1;31m---------------------------------------------------------------------------\u001b[0m",
      "\u001b[1;31mValueError\u001b[0m                                Traceback (most recent call last)",
      "Cell \u001b[1;32mIn[61], line 24\u001b[0m\n\u001b[0;32m     21\u001b[0m \u001b[38;5;28mprint\u001b[39m(\u001b[38;5;124m'\u001b[39m\u001b[38;5;124m-\u001b[39m\u001b[38;5;124m'\u001b[39m\u001b[38;5;241m*\u001b[39m\u001b[38;5;241m20\u001b[39m)\n\u001b[0;32m     23\u001b[0m \u001b[38;5;66;03m# 这是错误演示，这种shape是无法做 矩阵乘法的\u001b[39;00m\n\u001b[1;32m---> 24\u001b[0m res1 \u001b[38;5;241m=\u001b[39m np\u001b[38;5;241m.\u001b[39mdot(data, column)\n\u001b[0;32m     25\u001b[0m \u001b[38;5;28mprint\u001b[39m(res1)\n",
      "\u001b[1;31mValueError\u001b[0m: shapes (5,1) and (5,) not aligned: 1 (dim 1) != 5 (dim 0)"
     ]
    }
   ],
   "source": [
    "\n",
    "\"\"\"\n",
    "    测试 multiply 和 dot 的区别\n",
    "\n",
    "    在NumPy中, multiply函数 实际上执行的是矩阵与标量的乘法, 也就是将一个矩阵(或数组) 的每个元素与一个标量相乘。\n",
    "    \n",
    "    这种操作并不执行矩阵乘法，即不会按照矩阵乘法的规则去计算两个矩阵的乘积。\n",
    "\"\"\"\n",
    "data = np.array([i for i in range(5)]).reshape(5, 1)\n",
    "print(data)\n",
    "print(data.shape)\n",
    "print('-'*20)\n",
    "\n",
    "column = np.array([i for i in range(5)])\n",
    "print(column)\n",
    "print(column.shape)\n",
    "print('-'*20)\n",
    "\n",
    "result = np.multiply(data, column)\n",
    "print(result)\n",
    "print(result.shape)\n",
    "print('-'*20)\n",
    "\n",
    "# 这是错误演示，这种shape是无法做 矩阵乘法的\n",
    "res1 = np.dot(data, column)\n",
    "print(res1)\n"
   ]
  },
  {
   "cell_type": "code",
   "execution_count": 67,
   "metadata": {},
   "outputs": [
    {
     "name": "stdout",
     "output_type": "stream",
     "text": [
      "12.566370614359172\n",
      "[ 0.          1.3962634   2.7925268   4.1887902   5.58505361  6.98131701\n",
      "  8.37758041  9.77384381 11.17010721 12.56637061]\n",
      "------------------------------\n",
      "[0. 1. 2. 3. 4. 5. 6. 7. 8. 9.]\n"
     ]
    }
   ],
   "source": [
    "\"\"\"\n",
    "    np.linespace 用于生成在指定区间内均匀分布的一维数组\n",
    "\"\"\"\n",
    "\n",
    "a = np.linspace(0, 4*np.pi, 10)\n",
    "print(4*np.pi)\n",
    "print(a)\n",
    "\n",
    "print('-'*30)\n",
    "\n",
    "b = np.linspace(0, 9, 10)\n",
    "print(b)"
   ]
  }
 ],
 "metadata": {
  "kernelspec": {
   "display_name": "Python 3",
   "language": "python",
   "name": "python3"
  },
  "language_info": {
   "codemirror_mode": {
    "name": "ipython",
    "version": 3
   },
   "file_extension": ".py",
   "mimetype": "text/x-python",
   "name": "python",
   "nbconvert_exporter": "python",
   "pygments_lexer": "ipython3",
   "version": "3.11.5"
  }
 },
 "nbformat": 4,
 "nbformat_minor": 2
}
