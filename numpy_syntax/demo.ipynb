{
 "cells": [
  {
   "cell_type": "code",
   "execution_count": 1,
   "metadata": {},
   "outputs": [],
   "source": [
    "import numpy as np"
   ]
  },
  {
   "cell_type": "code",
   "execution_count": 3,
   "metadata": {},
   "outputs": [
    {
     "name": "stdout",
     "output_type": "stream",
     "text": [
      "[1 1 0 1 1 1 1 1 1 0]\n"
     ]
    }
   ],
   "source": [
    "\"\"\"\n",
    "    在[0, 1, 1] 三个数中，随机选10个，因为1有两个，所以结果中 1 会比较多\n",
    "\"\"\"\n",
    "\n",
    "a = np.random.choice([0, 1, 1], 10)\n",
    "\n",
    "print(a)"
   ]
  },
  {
   "cell_type": "code",
   "execution_count": 5,
   "metadata": {},
   "outputs": [
    {
     "name": "stdout",
     "output_type": "stream",
     "text": [
      "b1:\n",
      " [0. 0. 0.]\n",
      "b2:\n",
      "  [[0.]\n",
      " [0.]\n",
      " [0.]]\n"
     ]
    }
   ],
   "source": [
    "'''\n",
    "    写一个参数 与 写两个参数的区别；一个是一维，一个是二维\n",
    "'''\n",
    "b1 = np.zeros([3,])\n",
    "print('b1:\\n', b1)\n",
    "\n",
    "b2 = np.zeros([3,1])\n",
    "print('b2:\\n ', b2)\n"
   ]
  }
 ],
 "metadata": {
  "kernelspec": {
   "display_name": "Python 3",
   "language": "python",
   "name": "python3"
  },
  "language_info": {
   "codemirror_mode": {
    "name": "ipython",
    "version": 3
   },
   "file_extension": ".py",
   "mimetype": "text/x-python",
   "name": "python",
   "nbconvert_exporter": "python",
   "pygments_lexer": "ipython3",
   "version": "3.11.5"
  }
 },
 "nbformat": 4,
 "nbformat_minor": 2
}
